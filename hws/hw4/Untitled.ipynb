{
 "cells": [
  {
   "cell_type": "markdown",
   "metadata": {},
   "source": [
    "# Homework \\#3: Improving the Pipeline\n",
    "Ben Fogarty  \n",
    "University of Chicago  \n",
    "CAPP 30254: Machine Learning for Public Policy  \n",
    "Spring 2019"
   ]
  },
  {
   "cell_type": "markdown",
   "metadata": {},
   "source": [
    "## Background and requirements\n",
    "\n",
    "This project's folder contains the following files:\n",
    "\n",
    "- write_up.ipynb: the assignment write up\n",
    "- pipeline_library.py: general functions for a machine learning pipeline (reading data, preprocessing data, generating features, building models, etc.)\n",
    "- predict_financial.py: specific functions for applying the functions in pipeline_library to predicting who will experience financial distress within the next two years\n",
    "- tree.pdf: a visualization of the decision tree generated in this model\n",
    "- credit-data.csv: the dataset used for training and testing the tree predicting who will experience financial distress within the next two years\n",
    "- data-dictionary.csv: dictionary describing the dataset in credit-data.csv\n",
    "- hw2.pdf: the assignment statement\n",
    "\n",
    "The project was developed using Python 3.7.3 on MacOS Mojave 10.14.4. It requires the following libraries:\n",
    "\n",
    "| Package        | Version     |\n",
    "| :------------: | :---------: |\n",
    "| graphviz       | 2.40.1      |\n",
    "| pandas         | 0.24.2      |\n",
    "| matplotlib     | 3.0.3       |\n",
    "| numpy          | 1.16.2      |\n",
    "| seaborn        | 0.9.0       |\n",
    "| scikit-learn   | 0.20.3      |\n",
    "\n",
    "Helpful documentation and references are cited throughout the docstrings of the code."
   ]
  }
 ],
 "metadata": {
  "kernelspec": {
   "display_name": "Python 3",
   "language": "python",
   "name": "python3"
  },
  "language_info": {
   "codemirror_mode": {
    "name": "ipython",
    "version": 3
   },
   "file_extension": ".py",
   "mimetype": "text/x-python",
   "name": "python",
   "nbconvert_exporter": "python",
   "pygments_lexer": "ipython3",
   "version": "3.7.3"
  }
 },
 "nbformat": 4,
 "nbformat_minor": 2
}
