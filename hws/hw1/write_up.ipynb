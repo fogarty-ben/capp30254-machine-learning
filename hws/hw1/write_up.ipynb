{
 "cells": [
  {
   "cell_type": "markdown",
   "metadata": {},
   "source": [
    "# Homework 1: Diagnostic\n",
    "\n",
    "Ben Fogarty\n",
    "CAPP 30254: Machine Learning for Public Policy\n",
    "Spring 2019\n",
    "9 April 2019\n",
    "\n",
    "## Initialization\n",
    "\n",
    "Loading in analyze.py, the file where all the code for this assignment is located"
   ]
  },
  {
   "cell_type": "code",
   "execution_count": 1,
   "metadata": {},
   "outputs": [],
   "source": [
    "import analyze"
   ]
  },
  {
   "cell_type": "markdown",
   "metadata": {},
   "source": [
    "## Question 1\n",
    "### Part (a)\n",
    "\n",
    "Downloading the 2017-2018 crime reports data from the Chicago Open Data Portal:"
   ]
  },
  {
   "cell_type": "code",
   "execution_count": 2,
   "metadata": {},
   "outputs": [],
   "source": [
    "crime_reports = analyze.download_crime_reports(2017, 2018)"
   ]
  },
  {
   "cell_type": "markdown",
   "metadata": {},
   "source": [
    "### Part (b)\n",
    "Linking crime reports with community area names:"
   ]
  },
  {
   "cell_type": "code",
   "execution_count": 3,
   "metadata": {},
   "outputs": [],
   "source": [
    "community_areas = analyze.download_community_areas()\n",
    "crime_reports = analyze.link_reports_neighborhoods(crime_reports, community_areas)"
   ]
  },
  {
   "cell_type": "markdown",
   "metadata": {},
   "source": [
    "Generating general statistics on the crime reports dataset:"
   ]
  },
  {
   "cell_type": "code",
   "execution_count": 4,
   "metadata": {},
   "outputs": [
    {
     "name": "stdout",
     "output_type": "stream",
     "text": [
      "Overall, there were 534370 crime reports in the given set\n",
      "\n",
      "                                    Count  Percentage\n",
      "THEFT                              129427   24.220484\n",
      "BATTERY                             98996   18.525741\n",
      "CRIMINAL DAMAGE                     56848   10.638322\n",
      "ASSAULT                             39680    7.425567\n",
      "DECEPTIVE PRACTICE                  37759    7.066078\n",
      "OTHER OFFENSE                       34357    6.429440\n",
      "BURGLARY                            24731    4.628067\n",
      "NARCOTICS                           24646    4.612160\n",
      "ROBBERY                             21560    4.034658\n",
      "MOTOR VEHICLE THEFT                 21393    4.003406\n",
      "CRIMINAL TRESPASS                   13716    2.566761\n",
      "WEAPONS VIOLATION                   10136    1.896813\n",
      "OFFENSE INVOLVING CHILDREN           4498    0.841739\n",
      "CRIM SEXUAL ASSAULT                  3255    0.609129\n",
      "PUBLIC PEACE VIOLATION               2867    0.536520\n",
      "INTERFERENCE WITH PUBLIC OFFICER     2391    0.447443\n",
      "SEX OFFENSE                          2129    0.398413\n",
      "PROSTITUTION                         1453    0.271909\n",
      "HOMICIDE                             1262    0.236166\n",
      "ARSON                                 816    0.152703\n",
      "LIQUOR LAW VIOLATION                  459    0.085896\n",
      "GAMBLING                              392    0.073357\n",
      "STALKING                              391    0.073170\n",
      "KIDNAPPING                            359    0.067182\n",
      "INTIMIDATION                          319    0.059696\n",
      "CONCEALED CARRY LICENSE VIOLATION     218    0.040796\n",
      "OBSCENITY                             173    0.032375\n",
      "NON-CRIMINAL                           75    0.014035\n",
      "PUBLIC INDECENCY                       24    0.004491\n",
      "HUMAN TRAFFICKING                      23    0.004304\n",
      "OTHER NARCOTIC VIOLATION               12    0.002246\n",
      "NON-CRIMINAL (SUBJECT SPECIFIED)        5    0.000936\n"
     ]
    }
   ],
   "source": [
    "analyze.summarize_crime_reports(crime_reports)"
   ]
  },
  {
   "cell_type": "code",
   "execution_count": null,
   "metadata": {},
   "outputs": [],
   "source": []
  },
  {
   "cell_type": "code",
   "execution_count": 5,
   "metadata": {},
   "outputs": [
    {
     "data": {
      "text/plain": [
       "Index(['area', 'area_num_1', 'area_number', 'comarea', 'comarea_id',\n",
       "       'community', 'perimeter', 'shape_area', 'shape_len', 'the_geom'],\n",
       "      dtype='object')"
      ]
     },
     "execution_count": 5,
     "metadata": {},
     "output_type": "execute_result"
    }
   ],
   "source": [
    "community_areas.columns\n"
   ]
  },
  {
   "cell_type": "code",
   "execution_count": null,
   "metadata": {},
   "outputs": [],
   "source": []
  }
 ],
 "metadata": {
  "kernelspec": {
   "display_name": "Python 3",
   "language": "python",
   "name": "python3"
  },
  "language_info": {
   "codemirror_mode": {
    "name": "ipython",
    "version": 3
   },
   "file_extension": ".py",
   "mimetype": "text/x-python",
   "name": "python",
   "nbconvert_exporter": "python",
   "pygments_lexer": "ipython3",
   "version": "3.6.5"
  }
 },
 "nbformat": 4,
 "nbformat_minor": 2
}
